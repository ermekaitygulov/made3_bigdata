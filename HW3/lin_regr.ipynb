{
 "cells": [
  {
   "cell_type": "markdown",
   "metadata": {},
   "source": [
    "## Test Dataset\n",
    "[dataset](https://www.kaggle.com/mirichoi0218/insurance)"
   ]
  },
  {
   "cell_type": "code",
   "execution_count": 27,
   "metadata": {},
   "outputs": [],
   "source": [
    "import pandas as pd\n",
    "from sklearn import linear_model\n",
    "from sklearn.model_selection import KFold\n",
    "from sklearn.metrics import mean_squared_error, r2_score\n",
    "from collections import defaultdict"
   ]
  },
  {
   "cell_type": "code",
   "execution_count": 35,
   "metadata": {},
   "outputs": [],
   "source": [
    "data = pd.read_csv('insurance.csv')"
   ]
  },
  {
   "cell_type": "code",
   "execution_count": 36,
   "metadata": {},
   "outputs": [],
   "source": [
    "categorical_columns = ['sex','children', 'smoker', 'region']\n",
    "data = pd.get_dummies(data, prefix='OHE', columns=categorical_columns, drop_first=True)"
   ]
  },
  {
   "cell_type": "code",
   "execution_count": 37,
   "metadata": {},
   "outputs": [],
   "source": [
    "model = linear_model.LinearRegression()"
   ]
  },
  {
   "cell_type": "code",
   "execution_count": 46,
   "metadata": {},
   "outputs": [],
   "source": [
    "X, y = data.drop('charges', axis=1), data.charges"
   ]
  },
  {
   "cell_type": "code",
   "execution_count": 48,
   "metadata": {},
   "outputs": [
    {
     "name": "stdout",
     "output_type": "stream",
     "text": [
      "Start 0 fold\n",
      "train shape: (1070, 12)\n",
      "test shape: (268, 12)\n",
      "Start model train\n",
      "Start pred\n",
      "Start 1 fold\n",
      "train shape: (1070, 12)\n",
      "test shape: (268, 12)\n",
      "Start model train\n",
      "Start pred\n",
      "Start 2 fold\n",
      "train shape: (1070, 12)\n",
      "test shape: (268, 12)\n",
      "Start model train\n",
      "Start pred\n",
      "Start 3 fold\n",
      "train shape: (1071, 12)\n",
      "test shape: (267, 12)\n",
      "Start model train\n",
      "Start pred\n",
      "Start 4 fold\n",
      "train shape: (1071, 12)\n",
      "test shape: (267, 12)\n",
      "Start model train\n",
      "Start pred\n"
     ]
    }
   ],
   "source": [
    "kfold = KFold(shuffle=True, random_state=42)\n",
    "cv_loss = defaultdict(list)\n",
    "for i, (train_idx, test_idx) in enumerate(kfold.split(X, y)):\n",
    "    print(f'Start {i} fold')\n",
    "    train_X, train_y = X.iloc[train_idx], y.iloc[train_idx]\n",
    "    print(f'train shape: {train_X.shape}')\n",
    "    assert train_X.shape[0] == train_y.shape[0]\n",
    "    test_X, test_y = X.iloc[test_idx], y.iloc[test_idx]\n",
    "    print(f'test shape: {test_X.shape}')\n",
    "    assert test_X.shape[0] == test_y.shape[0]\n",
    "    assert all(train_shape == test_shape for\n",
    "               train_shape, test_shape in zip(train_X.shape[-1:], test_X.shape[-1:])) \n",
    "    \n",
    "    print('Start model train')\n",
    "    model.fit(train_X, train_y)\n",
    "    print('Start pred')\n",
    "    train_pred = model.predict(train_X)\n",
    "    test_pred = model.predict(test_X)\n",
    "    cv_loss['train_rmse'].append(mean_squared_error(train_y, train_pred, squared=False))\n",
    "    cv_loss['train_r2'].append(r2_score(train_y, train_pred))\n",
    "    cv_loss['test_rmse'].append(mean_squared_error(test_y, test_pred, squared=False))\n",
    "    cv_loss['test_r2'].append(r2_score(test_y, test_pred))"
   ]
  },
  {
   "cell_type": "code",
   "execution_count": 49,
   "metadata": {},
   "outputs": [
    {
     "data": {
      "text/plain": [
       "defaultdict(list,\n",
       "            {'train_rmse': [6087.942792141382,\n",
       "              6021.17512380288,\n",
       "              6098.246513576797,\n",
       "              5928.476910761713,\n",
       "              5978.578164109053],\n",
       "             'train_r2': [0.7432126559011109,\n",
       "              0.7540962033047006,\n",
       "              0.7382119209084921,\n",
       "              0.7729361046256888,\n",
       "              0.7518260924134872],\n",
       "             'test_rmse': [5810.028373627177,\n",
       "              6091.23862858396,\n",
       "              5769.820788688061,\n",
       "              6467.46110542072,\n",
       "              6254.489814513056],\n",
       "             'test_r2': [0.7825655038982294,\n",
       "              0.7403997218318874,\n",
       "              0.7965683351700736,\n",
       "              0.6300612393231182,\n",
       "              0.7502129923784764]})"
      ]
     },
     "execution_count": 49,
     "metadata": {},
     "output_type": "execute_result"
    }
   ],
   "source": [
    "cv_loss"
   ]
  },
  {
   "cell_type": "code",
   "execution_count": null,
   "metadata": {},
   "outputs": [],
   "source": []
  }
 ],
 "metadata": {
  "kernelspec": {
   "display_name": "Python 3",
   "language": "python",
   "name": "python3"
  },
  "language_info": {
   "codemirror_mode": {
    "name": "ipython",
    "version": 3
   },
   "file_extension": ".py",
   "mimetype": "text/x-python",
   "name": "python",
   "nbconvert_exporter": "python",
   "pygments_lexer": "ipython3",
   "version": "3.7.3"
  }
 },
 "nbformat": 4,
 "nbformat_minor": 4
}
